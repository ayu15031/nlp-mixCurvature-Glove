{
 "cells": [
  {
   "cell_type": "code",
   "execution_count": 1,
   "id": "2471fd2a",
   "metadata": {},
   "outputs": [
    {
     "name": "stdout",
     "output_type": "stream",
     "text": [
      "glove.pt      gloveMixed.pt\r\n"
     ]
    }
   ],
   "source": [
    "!ls model/"
   ]
  },
  {
   "cell_type": "code",
   "execution_count": 2,
   "id": "7d5972ac",
   "metadata": {},
   "outputs": [],
   "source": [
    "import torch\n",
    "import glove\n",
    "import run\n",
    "import pickle\n",
    "from tools import Dictionary"
   ]
  },
  {
   "cell_type": "code",
   "execution_count": 4,
   "id": "5aa85691",
   "metadata": {},
   "outputs": [],
   "source": [
    "EMBEDDING_SIZE = 128\n",
    "CONTEXT_SIZE = 3\n",
    "NUM_EPOCH = 100\n",
    "BATHC_SIZE = 512\n",
    "PATH = \"model/gloveMixed.pt\""
   ]
  },
  {
   "cell_type": "code",
   "execution_count": null,
   "id": "aa73164a",
   "metadata": {},
   "outputs": [],
   "source": []
  },
  {
   "cell_type": "code",
   "execution_count": 5,
   "id": "c7d7f9e1",
   "metadata": {},
   "outputs": [],
   "source": [
    "with open(\"data/f.pkl\", mode='rb') as fp:\n",
    "    doc = pickle.load(fp)"
   ]
  },
  {
   "cell_type": "code",
   "execution_count": 6,
   "id": "484dd022",
   "metadata": {},
   "outputs": [],
   "source": [
    "dictionary = Dictionary()\n",
    "dictionary.update(doc)\n",
    "# doc.vocab_size\n",
    "VS = dictionary.vocab_size"
   ]
  },
  {
   "cell_type": "code",
   "execution_count": 36,
   "id": "25475109",
   "metadata": {},
   "outputs": [
    {
     "data": {
      "text/plain": [
       "21281"
      ]
     },
     "execution_count": 36,
     "metadata": {},
     "output_type": "execute_result"
    }
   ],
   "source": [
    "len(list(dictionary.word2idx.keys()))"
   ]
  },
  {
   "cell_type": "code",
   "execution_count": 7,
   "id": "8345b37c",
   "metadata": {},
   "outputs": [],
   "source": [
    "model = glove.GloVeMixedCurvature(EMBEDDING_SIZE, CONTEXT_SIZE, VS)\n",
    "model.load_state_dict(torch.load(PATH, map_location=torch.device('cpu')))\n",
    "model"
   ]
  },
  {
   "cell_type": "code",
   "execution_count": 85,
   "id": "0060d410",
   "metadata": {},
   "outputs": [
    {
     "name": "stdout",
     "output_type": "stream",
     "text": [
      "{'euc': 0.058570027351379395, 'hyp': 0.5209340453147888, 'sph': -0.28635114431381226}\n",
      "{'euc': 6.9790296e-10, 'hyp': 5.0195154e-10, 'sph': 1.0}\n"
     ]
    }
   ],
   "source": [
    "curvatures = {\n",
    "    'euc': float(model.euc.manifold.k.data.detach().numpy()),\n",
    "    'hyp': float(model.hyp.manifold.k.data.detach().numpy()),\n",
    "    'sph': float(model.sph.manifold.k.data.detach().numpy()),\n",
    "} \n",
    "\n",
    "weights = {\n",
    "    'euc': ws.detach().numpy()[0],\n",
    "    'hyp': ws.detach().numpy()[1],\n",
    "    'sph': ws.detach().numpy()[2],\n",
    "} \n",
    "\n",
    "print(curvatures)\n",
    "print(weights)"
   ]
  },
  {
   "cell_type": "code",
   "execution_count": 83,
   "id": "92d28887",
   "metadata": {},
   "outputs": [
    {
     "name": "stderr",
     "output_type": "stream",
     "text": [
      "/var/folders/69/w6ds_szn4333rz0srzmb5drh0000gn/T/ipykernel_81470/442561688.py:1: UserWarning: Implicit dimension choice for softmax has been deprecated. Change the call to include dim=X as an argument.\n",
      "  ws = torch.nn.functional.softmax(model.w)\n"
     ]
    },
    {
     "data": {
      "text/plain": [
       "6.9790296e-10"
      ]
     },
     "execution_count": 83,
     "metadata": {},
     "output_type": "execute_result"
    }
   ],
   "source": [
    "ws = torch.nn.functional.softmax(model.w)\n"
   ]
  },
  {
   "cell_type": "code",
   "execution_count": 8,
   "id": "b74e988a",
   "metadata": {},
   "outputs": [
    {
     "data": {
      "text/plain": [
       "<All keys matched successfully>"
      ]
     },
     "execution_count": 8,
     "metadata": {},
     "output_type": "execute_result"
    }
   ],
   "source": []
  },
  {
   "cell_type": "code",
   "execution_count": 22,
   "id": "d79cd90e",
   "metadata": {},
   "outputs": [],
   "source": [
    "emb = [\n",
    "    model.euc._focal_embeddings.weight + model.euc._context_embeddings.weight,\n",
    "    model.hyp._focal_embeddings.weight + model.hyp._context_embeddings.weight,\n",
    "    model.sph._focal_embeddings.weight + model.sph._context_embeddings.weight,\n",
    "]\n",
    "emb = [e.detach().numpy() for e in emb]\n",
    "emb = dict(zip(emb, [\"euc\", \"hyp\"]))"
   ]
  },
  {
   "cell_type": "code",
   "execution_count": 32,
   "id": "e4f5d46e",
   "metadata": {},
   "outputs": [
    {
     "data": {
      "text/plain": [
       "(21281, 128)"
      ]
     },
     "execution_count": 32,
     "metadata": {},
     "output_type": "execute_result"
    }
   ],
   "source": [
    "emb[0].shape"
   ]
  },
  {
   "cell_type": "code",
   "execution_count": 38,
   "id": "aa71aa9c",
   "metadata": {},
   "outputs": [],
   "source": [
    "mixedGlove = {}\n",
    "for w in dictionary.word2idx:\n",
    "    mixedGlove[w] = emb[0][dictionary.word2idx[w]]"
   ]
  },
  {
   "cell_type": "code",
   "execution_count": 40,
   "id": "21cf5f62",
   "metadata": {},
   "outputs": [
    {
     "data": {
      "text/plain": [
       "array([-0.64420661,  0.15743831,  0.22192618,  0.59039424,  0.90000058,\n",
       "       -0.66413474,  0.15104005,  1.21627153, -0.75017725,  0.78113541,\n",
       "       -0.80139648,  1.87221269,  0.10130574, -0.19605126,  0.02252322,\n",
       "       -0.2555619 ,  0.68385211, -0.11210091, -0.97919782, -0.9610091 ,\n",
       "       -0.70239999, -1.41568613, -0.30521827,  1.16599273,  1.10834607,\n",
       "       -0.38402495, -0.81371477, -1.12463775, -0.36470237, -1.24158056,\n",
       "        1.34313582, -0.59182167,  0.42480667, -0.13956106, -1.23403067,\n",
       "        0.15070984,  0.00258637, -0.30987906,  0.49347931, -0.3904684 ,\n",
       "        0.03660937, -1.75052565,  0.35169436, -0.08176932, -1.28481781,\n",
       "       -0.25451352, -0.110219  , -0.24992183, -0.57341222,  0.05008277,\n",
       "       -0.3014037 ,  0.83842973, -1.62911088, -0.06750314,  0.35095325,\n",
       "       -0.83167438,  0.37797179,  0.83990232, -0.69808682,  1.2735605 ,\n",
       "       -0.85066075, -1.10654922,  0.57227658,  0.93776593, -0.9981617 ,\n",
       "       -0.01914002, -1.66696638,  1.27528213, -0.00643418,  0.02504839,\n",
       "       -0.16561608, -0.14816776,  0.45579453, -0.37677072, -0.14202874,\n",
       "       -0.83940371, -0.46986663,  0.54397468,  0.24765279,  0.68509401,\n",
       "       -0.74828042, -0.40087857, -0.32036448, -0.71564414,  1.01704924,\n",
       "       -1.99625702,  0.81655887,  0.28574702,  0.15472621, -0.51890752,\n",
       "       -0.00653449,  0.37512306, -0.27168511,  1.0404006 ,  0.755871  ,\n",
       "       -1.40109806,  0.7603533 , -0.49381666, -0.31887675,  0.82150284,\n",
       "        1.53697703,  0.87108187,  0.14085633, -0.26912477,  0.01973937,\n",
       "        0.98523149,  0.54349267,  0.04869343,  0.48800296,  0.50358576,\n",
       "       -0.99521906,  1.49236662,  1.45479234, -0.40672475, -1.10547321,\n",
       "       -0.09423989, -0.51493332,  0.5880728 , -0.27254925,  0.67501241,\n",
       "        0.37020713,  0.77945037,  0.89481082,  1.57952605, -0.74346194,\n",
       "        0.00829673,  0.08743965,  0.53872144])"
      ]
     },
     "execution_count": 40,
     "metadata": {},
     "output_type": "execute_result"
    }
   ],
   "source": [
    "emb[0][dictionary.word2idx[w]]"
   ]
  },
  {
   "cell_type": "code",
   "execution_count": null,
   "id": "3f4f2bab",
   "metadata": {},
   "outputs": [],
   "source": []
  }
 ],
 "metadata": {
  "kernelspec": {
   "display_name": "Python 3 (ipykernel)",
   "language": "python",
   "name": "python3"
  },
  "language_info": {
   "codemirror_mode": {
    "name": "ipython",
    "version": 3
   },
   "file_extension": ".py",
   "mimetype": "text/x-python",
   "name": "python",
   "nbconvert_exporter": "python",
   "pygments_lexer": "ipython3",
   "version": "3.9.9"
  }
 },
 "nbformat": 4,
 "nbformat_minor": 5
}
