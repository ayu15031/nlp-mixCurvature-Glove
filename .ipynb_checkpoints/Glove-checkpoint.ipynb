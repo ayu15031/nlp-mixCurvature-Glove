{
 "cells": [
  {
   "cell_type": "code",
   "execution_count": 1,
   "id": "3f82f061",
   "metadata": {},
   "outputs": [
    {
     "name": "stderr",
     "output_type": "stream",
     "text": [
      "\u001b[34m\u001b[1mwandb\u001b[0m: Currently logged in as: \u001b[33mayushi15\u001b[0m. Use \u001b[1m`wandb login --relogin`\u001b[0m to force relogin\n"
     ]
    },
    {
     "data": {
      "text/html": [
       "Tracking run with wandb version 0.12.17"
      ],
      "text/plain": [
       "<IPython.core.display.HTML object>"
      ]
     },
     "metadata": {},
     "output_type": "display_data"
    },
    {
     "data": {
      "text/html": [
       "Run data is saved locally in <code>/Users/ayushi/Courses/Spring22/NLP/project/nlp-mixCurvature-Glove/wandb/run-20220528_183158-r86t9k8o</code>"
      ],
      "text/plain": [
       "<IPython.core.display.HTML object>"
      ]
     },
     "metadata": {},
     "output_type": "display_data"
    },
    {
     "data": {
      "text/html": [
       "Syncing run <strong><a href=\"https://wandb.ai/ayushi15/nlp-multimixture/runs/r86t9k8o\" target=\"_blank\">daily-wave-18</a></strong> to <a href=\"https://wandb.ai/ayushi15/nlp-multimixture\" target=\"_blank\">Weights & Biases</a> (<a href=\"https://wandb.me/run\" target=\"_blank\">docs</a>)<br/>"
      ],
      "text/plain": [
       "<IPython.core.display.HTML object>"
      ]
     },
     "metadata": {},
     "output_type": "display_data"
    }
   ],
   "source": [
    "import torch\n",
    "import glove\n",
    "import run\n",
    "import pickle\n",
    "from tools import Dictionary"
   ]
  },
  {
   "cell_type": "code",
   "execution_count": 2,
   "id": "7864d1a0",
   "metadata": {},
   "outputs": [],
   "source": [
    "EMBEDDING_SIZE = 128\n",
    "CONTEXT_SIZE = 3\n",
    "NUM_EPOCH = 100\n",
    "BATHC_SIZE = 512\n",
    "PATH = \"../../model/glove.pt\""
   ]
  },
  {
   "cell_type": "code",
   "execution_count": null,
   "id": "aaae75d9",
   "metadata": {},
   "outputs": [],
   "source": [
    "# !mv /Users/v/Downloads/glove.pt model/"
   ]
  },
  {
   "cell_type": "code",
   "execution_count": 3,
   "id": "7c7c63d6",
   "metadata": {},
   "outputs": [],
   "source": [
    "with open(\"../../data/dict_vanilla.pkl\", mode='rb') as fp:\n",
    "    dictionary = pickle.load(fp)\n",
    "    \n",
    "VS = dictionary.vocab_size"
   ]
  },
  {
   "cell_type": "code",
   "execution_count": null,
   "id": "d99a8fd6",
   "metadata": {},
   "outputs": [],
   "source": [
    "# doc"
   ]
  },
  {
   "cell_type": "code",
   "execution_count": 4,
   "id": "f2345509",
   "metadata": {},
   "outputs": [
    {
     "data": {
      "text/plain": [
       "GloVeModel(\n",
       "  (_focal_embeddings): Embedding(21281, 128)\n",
       "  (_context_embeddings): Embedding(21281, 128)\n",
       "  (_focal_biases): Embedding(21281, 1)\n",
       "  (_context_biases): Embedding(21281, 1)\n",
       ")"
      ]
     },
     "execution_count": 4,
     "metadata": {},
     "output_type": "execute_result"
    }
   ],
   "source": [
    "model = glove.GloVeModel(EMBEDDING_SIZE, CONTEXT_SIZE, VS)\n",
    "model.load_state_dict(torch.load(PATH, map_location=torch.device('cpu')))\n",
    "model\n",
    "# model = torch.load(PATH, map_location=torch.device('cpu'))"
   ]
  },
  {
   "cell_type": "code",
   "execution_count": 5,
   "id": "9c30c199",
   "metadata": {},
   "outputs": [
    {
     "name": "stdout",
     "output_type": "stream",
     "text": [
      "tensor(5275.9465, dtype=torch.float64, grad_fn=<SumBackward0>)\n",
      "tensor(-6565.9297, dtype=torch.float64, grad_fn=<SumBackward0>)\n"
     ]
    }
   ],
   "source": [
    "print(model._focal_embeddings.weight.sum())\n",
    "print(model._context_embeddings.weight.sum())"
   ]
  },
  {
   "cell_type": "code",
   "execution_count": 18,
   "id": "4b1b1809",
   "metadata": {},
   "outputs": [
    {
     "name": "stdout",
     "output_type": "stream",
     "text": [
      "-2.4133133708149748\n",
      "10.697208505761552\n",
      "-7.356612027699167\n"
     ]
    }
   ],
   "source": [
    "emb = model._focal_embeddings.weight + model._context_embeddings.weight\n",
    "# emb = model['_focal_embeddings.weight'] + model['_context_embeddings.weight']\n",
    "\n",
    "emb = [e.detach().numpy() for e in emb]\n",
    "print(emb[0].sum())\n",
    "print(emb[1].sum())\n",
    "print(emb[2].sum())"
   ]
  },
  {
   "cell_type": "code",
   "execution_count": 19,
   "id": "a1301d4d",
   "metadata": {},
   "outputs": [
    {
     "name": "stdout",
     "output_type": "stream",
     "text": [
      "18147\n",
      "4439\n",
      "17889\n"
     ]
    }
   ],
   "source": [
    "print(dictionary.word2idx['hogwarts'])\n",
    "print(dictionary.word2idx['dumbledore'])\n",
    "print(dictionary.word2idx['voldemort'])"
   ]
  },
  {
   "cell_type": "code",
   "execution_count": 20,
   "id": "edbccf70",
   "metadata": {},
   "outputs": [
    {
     "name": "stdout",
     "output_type": "stream",
     "text": [
      "0.5021560844268445\n",
      "6.147655146585573\n",
      "6.672460955591102\n"
     ]
    }
   ],
   "source": [
    "GloVe = {}\n",
    "for w in dictionary.word2idx:\n",
    "    GloVe[w] = emb[dictionary.word2idx[w]]\n",
    "    \n",
    "    \n",
    "print(GloVe['hogwarts'].sum())\n",
    "print(GloVe['dumbledore'].sum())\n",
    "print(GloVe['voldemort'].sum())"
   ]
  },
  {
   "cell_type": "code",
   "execution_count": 21,
   "id": "06464dc7",
   "metadata": {},
   "outputs": [],
   "source": [
    "import numpy as np\n",
    "\n",
    "def cosine(a, b):\n",
    "    return a.dot(b)/(np.linalg.norm(a)*np.linalg.norm(b))"
   ]
  },
  {
   "cell_type": "code",
   "execution_count": 22,
   "id": "a4dc9f40",
   "metadata": {},
   "outputs": [
    {
     "data": {
      "text/plain": [
       "0.3171820283282359"
      ]
     },
     "execution_count": 22,
     "metadata": {},
     "output_type": "execute_result"
    }
   ],
   "source": [
    "cosine(GloVe['hogwarts'], GloVe['dumbledore'])"
   ]
  },
  {
   "cell_type": "code",
   "execution_count": 23,
   "id": "f13bafe2",
   "metadata": {},
   "outputs": [
    {
     "data": {
      "text/plain": [
       "0.35624675877856243"
      ]
     },
     "execution_count": 23,
     "metadata": {},
     "output_type": "execute_result"
    }
   ],
   "source": [
    "cosine(GloVe['hogwarts'], GloVe['voldemort'])"
   ]
  },
  {
   "cell_type": "code",
   "execution_count": 24,
   "id": "20c7412b",
   "metadata": {},
   "outputs": [],
   "source": [
    "with open(\"model/glove.pkl\", \"wb\") as handle:\n",
    "    pickle.dump(GloVe, handle)"
   ]
  },
  {
   "cell_type": "markdown",
   "id": "c1bd03e0",
   "metadata": {},
   "source": [
    "# Analogies"
   ]
  },
  {
   "cell_type": "code",
   "execution_count": 30,
   "id": "15e70761",
   "metadata": {},
   "outputs": [],
   "source": [
    "from utils import find_analogy_glove"
   ]
  },
  {
   "cell_type": "code",
   "execution_count": 31,
   "id": "01d1984c",
   "metadata": {},
   "outputs": [],
   "source": [
    "embeddings = GloVe\n",
    "word_a = \"Harry\"\n",
    "word_b = \"Potter\"\n",
    "word_c = \"Luna\"\n",
    "\n",
    "\n",
    "#    Lovegood\n"
   ]
  },
  {
   "cell_type": "code",
   "execution_count": 32,
   "id": "c1b21262",
   "metadata": {},
   "outputs": [
    {
     "name": "stdout",
     "output_type": "stream",
     "text": [
      "CPU times: user 161 ms, sys: 11.7 ms, total: 173 ms\n",
      "Wall time: 169 ms\n"
     ]
    },
    {
     "data": {
      "text/plain": [
       "'seven'"
      ]
     },
     "execution_count": 32,
     "metadata": {},
     "output_type": "execute_result"
    }
   ],
   "source": [
    "%%time\n",
    "find_analogy_glove(word_a, word_b, word_c, embeddings, 20)"
   ]
  },
  {
   "cell_type": "code",
   "execution_count": null,
   "id": "f9af7c5f",
   "metadata": {},
   "outputs": [],
   "source": []
  }
 ],
 "metadata": {
  "kernelspec": {
   "display_name": "Python 3 (ipykernel)",
   "language": "python",
   "name": "python3"
  },
  "language_info": {
   "codemirror_mode": {
    "name": "ipython",
    "version": 3
   },
   "file_extension": ".py",
   "mimetype": "text/x-python",
   "name": "python",
   "nbconvert_exporter": "python",
   "pygments_lexer": "ipython3",
   "version": "3.8.6"
  }
 },
 "nbformat": 4,
 "nbformat_minor": 5
}
