{
 "cells": [
  {
   "cell_type": "code",
   "execution_count": 1,
   "id": "70348704",
   "metadata": {},
   "outputs": [
    {
     "name": "stdout",
     "output_type": "stream",
     "text": [
      "glove.pt      gloveMixed.pt\r\n"
     ]
    }
   ],
   "source": [
    "!ls ../model/"
   ]
  },
  {
   "cell_type": "code",
   "execution_count": 2,
   "id": "605e8d56",
   "metadata": {},
   "outputs": [],
   "source": [
    "import torch\n",
    "import glove\n",
    "import run\n",
    "import pickle\n",
    "from tools import Dictionary"
   ]
  },
  {
   "cell_type": "code",
   "execution_count": 3,
   "id": "50825be4",
   "metadata": {},
   "outputs": [],
   "source": [
    "EMBEDDING_SIZE = 128\n",
    "CONTEXT_SIZE = 3\n",
    "NUM_EPOCH = 100\n",
    "BATHC_SIZE = 512\n",
    "PATH = \"../model/gloveMixed.pt\""
   ]
  },
  {
   "cell_type": "code",
   "execution_count": 4,
   "id": "27a7f799",
   "metadata": {},
   "outputs": [],
   "source": [
    "with open(\"data/f.pkl\", mode='rb') as fp:\n",
    "    doc = pickle.load(fp)"
   ]
  },
  {
   "cell_type": "code",
   "execution_count": 5,
   "id": "630c3aec",
   "metadata": {},
   "outputs": [],
   "source": [
    "dictionary = Dictionary()\n",
    "dictionary.update(doc)\n",
    "# doc.vocab_size\n",
    "VS = dictionary.vocab_size"
   ]
  },
  {
   "cell_type": "code",
   "execution_count": 6,
   "id": "d9184a0e",
   "metadata": {},
   "outputs": [
    {
     "data": {
      "text/plain": [
       "21281"
      ]
     },
     "execution_count": 6,
     "metadata": {},
     "output_type": "execute_result"
    }
   ],
   "source": [
    "len(list(dictionary.word2idx.keys()))"
   ]
  },
  {
   "cell_type": "code",
   "execution_count": 7,
   "id": "6cc91635",
   "metadata": {},
   "outputs": [
    {
     "data": {
      "text/plain": [
       "GloVeMixedCurvature(\n",
       "  (euc): ManifoldEmbedding(\n",
       "    (_focal_embeddings): Embedding(21281, 128)\n",
       "    (_context_embeddings): Embedding(21281, 128)\n",
       "    (_focal_biases): Embedding(21281, 1)\n",
       "    (_context_biases): Embedding(21281, 1)\n",
       "    (manifold): Stereographic manifold\n",
       "  )\n",
       "  (hyp): ManifoldEmbedding(\n",
       "    (_focal_embeddings): Embedding(21281, 128)\n",
       "    (_context_embeddings): Embedding(21281, 128)\n",
       "    (_focal_biases): Embedding(21281, 1)\n",
       "    (_context_biases): Embedding(21281, 1)\n",
       "    (manifold): Stereographic manifold\n",
       "  )\n",
       "  (sph): ManifoldEmbedding(\n",
       "    (_focal_embeddings): Embedding(21281, 128)\n",
       "    (_context_embeddings): Embedding(21281, 128)\n",
       "    (_focal_biases): Embedding(21281, 1)\n",
       "    (_context_biases): Embedding(21281, 1)\n",
       "    (manifold): Stereographic manifold\n",
       "  )\n",
       "  (_focal_embeddings): Embedding(21281, 128)\n",
       "  (_context_embeddings): Embedding(21281, 128)\n",
       "  (_focal_biases): Embedding(21281, 1)\n",
       "  (_context_biases): Embedding(21281, 1)\n",
       ")"
      ]
     },
     "execution_count": 7,
     "metadata": {},
     "output_type": "execute_result"
    }
   ],
   "source": [
    "model = glove.GloVeMixedCurvature(EMBEDDING_SIZE, CONTEXT_SIZE, VS)\n",
    "model.load_state_dict(torch.load(PATH, map_location=torch.device('cpu')))\n",
    "model"
   ]
  },
  {
   "cell_type": "code",
   "execution_count": 8,
   "id": "7cb1f89c",
   "metadata": {},
   "outputs": [
    {
     "name": "stdout",
     "output_type": "stream",
     "text": [
      "{'euc': 0.058570027351379395, 'hyp': 1.0, 'sph': 1.0}\n",
      "{'euc': 0.9999939, 'hyp': 5.7713128e-06, 'sph': 3.5080123e-07}\n"
     ]
    },
    {
     "name": "stderr",
     "output_type": "stream",
     "text": [
      "/var/folders/s5/hdjj6v6x4x5crg2lctj_26cr0000gn/T/ipykernel_78349/2681497438.py:1: UserWarning: Implicit dimension choice for softmax has been deprecated. Change the call to include dim=X as an argument.\n",
      "  ws = torch.nn.functional.softmax(model.w)\n"
     ]
    }
   ],
   "source": [
    "ws = torch.nn.functional.softmax(model.w)\n",
    "\n",
    "curvatures = {\n",
    "    'euc': float(model.euc.manifold.k.data.detach().numpy()),\n",
    "    'hyp': float(model.hyp.manifold.k.data.detach().numpy()),\n",
    "    'sph': float(model.sph.manifold.k.data.detach().numpy()),\n",
    "} \n",
    "\n",
    "weights = {\n",
    "    'euc': ws.detach().numpy()[0],\n",
    "    'hyp': ws.detach().numpy()[1],\n",
    "    'sph': ws.detach().numpy()[2],\n",
    "} \n",
    "\n",
    "print(curvatures)\n",
    "print(weights)"
   ]
  },
  {
   "cell_type": "code",
   "execution_count": null,
   "id": "0d5baf93",
   "metadata": {},
   "outputs": [],
   "source": [
    "emb = [\n",
    "    model.euc._focal_embeddings.weight + model.euc._context_embeddings.weight,\n",
    "    model.hyp._focal_embeddings.weight + model.hyp._context_embeddings.weight,\n",
    "    model.sph._focal_embeddings.weight + model.sph._context_embeddings.weight,\n",
    "]\n",
    "emb = [e.detach().numpy() for e in emb]\n",
    "emb = dict(zip(emb, [\"euc\", \"hyp\"]))"
   ]
  },
  {
   "cell_type": "code",
   "execution_count": null,
   "id": "bb4204f5",
   "metadata": {},
   "outputs": [],
   "source": [
    "emb[0].shape"
   ]
  },
  {
   "cell_type": "code",
   "execution_count": null,
   "id": "222cfcc3",
   "metadata": {},
   "outputs": [],
   "source": [
    "mixedGlove = {}\n",
    "for w in dictionary.word2idx:\n",
    "    mixedGlove[w] = {\n",
    "        \"euc\":emb[0][dictionary.word2idx[w]],\n",
    "        \"hyp\":emb[1][dictionary.word2idx[w]],\n",
    "        \"sph\":emb[2][dictionary.word2idx[w]],\n",
    "    }"
   ]
  },
  {
   "cell_type": "code",
   "execution_count": null,
   "id": "b285515c",
   "metadata": {},
   "outputs": [],
   "source": [
    "embedding = {\n",
    "    \"curvatures\": curvatures,\n",
    "    \"weights\": weights,\n",
    "    \"vecs\": mixedGlove,\n",
    "}"
   ]
  },
  {
   "cell_type": "code",
   "execution_count": null,
   "id": "a2c92839",
   "metadata": {},
   "outputs": [],
   "source": [
    "# embedding"
   ]
  },
  {
   "cell_type": "code",
   "execution_count": null,
   "id": "a3b82160",
   "metadata": {},
   "outputs": [],
   "source": [
    "with open(\"mixed.pkl\", \"wb\") as handle:\n",
    "    pickle.dump(embedding, handle)"
   ]
  }
 ],
 "metadata": {
  "kernelspec": {
   "display_name": "Python 3 (ipykernel)",
   "language": "python",
   "name": "python3"
  },
  "language_info": {
   "codemirror_mode": {
    "name": "ipython",
    "version": 3
   },
   "file_extension": ".py",
   "mimetype": "text/x-python",
   "name": "python",
   "nbconvert_exporter": "python",
   "pygments_lexer": "ipython3",
   "version": "3.8.6"
  }
 },
 "nbformat": 4,
 "nbformat_minor": 5
}
