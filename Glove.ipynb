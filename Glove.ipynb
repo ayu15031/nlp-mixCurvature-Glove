{
 "cells": [
  {
   "cell_type": "code",
   "execution_count": 1,
   "id": "3f82f061",
   "metadata": {},
   "outputs": [
    {
     "ename": "ModuleNotFoundError",
     "evalue": "No module named 'wandb'",
     "output_type": "error",
     "traceback": [
      "\u001b[0;31m---------------------------------------------------------------------------\u001b[0m",
      "\u001b[0;31mModuleNotFoundError\u001b[0m                       Traceback (most recent call last)",
      "Input \u001b[0;32mIn [1]\u001b[0m, in \u001b[0;36m<cell line: 2>\u001b[0;34m()\u001b[0m\n\u001b[1;32m      1\u001b[0m \u001b[38;5;28;01mimport\u001b[39;00m \u001b[38;5;21;01mtorch\u001b[39;00m\n\u001b[0;32m----> 2\u001b[0m \u001b[38;5;28;01mimport\u001b[39;00m \u001b[38;5;21;01mglove\u001b[39;00m\n\u001b[1;32m      3\u001b[0m \u001b[38;5;28;01mimport\u001b[39;00m \u001b[38;5;21;01mrun\u001b[39;00m\n\u001b[1;32m      4\u001b[0m \u001b[38;5;28;01mimport\u001b[39;00m \u001b[38;5;21;01mpickle\u001b[39;00m\n",
      "File \u001b[0;32m~/Documents/NLPProject/pytorch-glove/glove.py:9\u001b[0m, in \u001b[0;36m<module>\u001b[0;34m\u001b[0m\n\u001b[1;32m      7\u001b[0m \u001b[38;5;28;01mimport\u001b[39;00m \u001b[38;5;21;01mtqdm\u001b[39;00m\n\u001b[1;32m      8\u001b[0m \u001b[38;5;28;01mimport\u001b[39;00m \u001b[38;5;21;01mgeoopt\u001b[39;00m\n\u001b[0;32m----> 9\u001b[0m \u001b[38;5;28;01mimport\u001b[39;00m \u001b[38;5;21;01mwandb\u001b[39;00m\n\u001b[1;32m     11\u001b[0m SEED \u001b[38;5;241m=\u001b[39m \u001b[38;5;241m6969\u001b[39m\n\u001b[1;32m     12\u001b[0m \u001b[38;5;66;03m# random.seed(SEED)\u001b[39;00m\n\u001b[1;32m     13\u001b[0m \u001b[38;5;66;03m# np.random.set_seed(SEED)\u001b[39;00m\n",
      "\u001b[0;31mModuleNotFoundError\u001b[0m: No module named 'wandb'"
     ]
    }
   ],
   "source": [
    "import torch\n",
    "import glove\n",
    "import run\n",
    "import pickle\n",
    "from tools import Dictionary"
   ]
  },
  {
   "cell_type": "code",
   "execution_count": null,
   "id": "7864d1a0",
   "metadata": {},
   "outputs": [],
   "source": [
    "EMBEDDING_SIZE = 128\n",
    "CONTEXT_SIZE = 3\n",
    "NUM_EPOCH = 100\n",
    "BATHC_SIZE = 512\n",
    "PATH = \"model/glove.pt\""
   ]
  },
  {
   "cell_type": "code",
   "execution_count": null,
   "id": "aaae75d9",
   "metadata": {},
   "outputs": [],
   "source": [
    "# !mv /Users/v/Downloads/glove.pt model/"
   ]
  },
  {
   "cell_type": "code",
   "execution_count": 4,
   "id": "7c7c63d6",
   "metadata": {},
   "outputs": [],
   "source": [
    "with open(\"data/f.pkl\", mode='rb') as fp:\n",
    "    dictionary = pickle.load(fp)\n",
    "    \n",
    "VS = dictionary.vocab_size"
   ]
  },
  {
   "cell_type": "code",
   "execution_count": 5,
   "id": "d99a8fd6",
   "metadata": {},
   "outputs": [],
   "source": [
    "# doc"
   ]
  },
  {
   "cell_type": "code",
   "execution_count": 6,
   "id": "f2345509",
   "metadata": {},
   "outputs": [
    {
     "data": {
      "text/plain": [
       "GloVeModel(\n",
       "  (_focal_embeddings): Embedding(21281, 128)\n",
       "  (_context_embeddings): Embedding(21281, 128)\n",
       "  (_focal_biases): Embedding(21281, 1)\n",
       "  (_context_biases): Embedding(21281, 1)\n",
       ")"
      ]
     },
     "execution_count": 6,
     "metadata": {},
     "output_type": "execute_result"
    }
   ],
   "source": [
    "model = glove.GloVeModel(EMBEDDING_SIZE, CONTEXT_SIZE, VS)\n",
    "model.load_state_dict(torch.load(PATH, map_location=torch.device('cpu')))\n",
    "model\n",
    "# model = torch.load(PATH, map_location=torch.device('cpu'))"
   ]
  },
  {
   "cell_type": "code",
   "execution_count": 7,
   "id": "9c30c199",
   "metadata": {},
   "outputs": [
    {
     "name": "stdout",
     "output_type": "stream",
     "text": [
      "tensor(9342.3759, dtype=torch.float64, grad_fn=<SumBackward0>)\n",
      "tensor(-6253.2117, dtype=torch.float64, grad_fn=<SumBackward0>)\n"
     ]
    }
   ],
   "source": [
    "print(model._focal_embeddings.weight.sum())\n",
    "print(model._context_embeddings.weight.sum())"
   ]
  },
  {
   "cell_type": "code",
   "execution_count": 8,
   "id": "4b1b1809",
   "metadata": {},
   "outputs": [
    {
     "name": "stdout",
     "output_type": "stream",
     "text": [
      "-4.327584663556834\n",
      "4.7196935501967525\n",
      "9.048361289862553\n"
     ]
    }
   ],
   "source": [
    "emb = model._focal_embeddings.weight + model._context_embeddings.weight\n",
    "# emb = model['_focal_embeddings.weight'] + model['_context_embeddings.weight']\n",
    "\n",
    "emb = [e.detach().numpy() for e in emb]\n",
    "print(emb[0].sum())\n",
    "print(emb[1].sum())\n",
    "print(emb[2].sum())"
   ]
  },
  {
   "cell_type": "code",
   "execution_count": 9,
   "id": "a1301d4d",
   "metadata": {},
   "outputs": [
    {
     "name": "stdout",
     "output_type": "stream",
     "text": [
      "16272\n",
      "1031\n",
      "9168\n"
     ]
    }
   ],
   "source": [
    "print(dictionary.word2idx['hogwarts'])\n",
    "print(dictionary.word2idx['dumbledore'])\n",
    "print(dictionary.word2idx['voldemort'])"
   ]
  },
  {
   "cell_type": "code",
   "execution_count": null,
   "id": "edbccf70",
   "metadata": {},
   "outputs": [],
   "source": [
    "GloVe = {}\n",
    "for w in dictionary.word2idx:\n",
    "    GloVe[w] = emb[dictionary.word2idx[w]]\n",
    "    \n",
    "    \n",
    "print(GloVe['hogwarts'].sum())\n",
    "print(GloVe['dumbledore'].sum())\n",
    "print(GloVe['voldemort'].sum())"
   ]
  },
  {
   "cell_type": "code",
   "execution_count": null,
   "id": "06464dc7",
   "metadata": {},
   "outputs": [],
   "source": [
    "import numpy as np\n",
    "\n",
    "def cosine(a, b):\n",
    "    return a.dot(b)/(np.linalg.norm(a)*np.linalg.norm(b))"
   ]
  },
  {
   "cell_type": "code",
   "execution_count": null,
   "id": "a4dc9f40",
   "metadata": {},
   "outputs": [],
   "source": [
    "cosine(GloVe['hogwarts'], GloVe['dumbledore'])"
   ]
  },
  {
   "cell_type": "code",
   "execution_count": null,
   "id": "f13bafe2",
   "metadata": {},
   "outputs": [],
   "source": [
    "cosine(GloVe['hogwarts'], GloVe['voldemort'])"
   ]
  },
  {
   "cell_type": "code",
   "execution_count": null,
   "id": "20c7412b",
   "metadata": {},
   "outputs": [],
   "source": [
    "with open(\"model/glove.pkl\", \"wb\") as handle:\n",
    "    pickle.dump(GloVe, handle)"
   ]
  },
  {
   "cell_type": "markdown",
   "id": "c1bd03e0",
   "metadata": {},
   "source": [
    "# Analogies"
   ]
  },
  {
   "cell_type": "code",
   "execution_count": null,
   "id": "15e70761",
   "metadata": {},
   "outputs": [],
   "source": [
    "from utils import find_analogy_glove"
   ]
  },
  {
   "cell_type": "code",
   "execution_count": null,
   "id": "01d1984c",
   "metadata": {},
   "outputs": [],
   "source": [
    "embeddings = GloVe\n",
    "word_a = \"Harry\"\n",
    "word_b = \"Potter\"\n",
    "word_c = \"Hermione\"\n",
    "\n",
    "\n",
    "#    Lovegood\n"
   ]
  },
  {
   "cell_type": "code",
   "execution_count": null,
   "id": "c1b21262",
   "metadata": {},
   "outputs": [],
   "source": [
    "%%time\n",
    "find_analogy_glove(word_a, word_b, word_c, embeddings, 20)"
   ]
  },
  {
   "cell_type": "code",
   "execution_count": null,
   "id": "11b4603b",
   "metadata": {},
   "outputs": [],
   "source": []
  },
  {
   "cell_type": "code",
   "execution_count": null,
   "id": "f9af7c5f",
   "metadata": {},
   "outputs": [],
   "source": []
  }
 ],
 "metadata": {
  "kernelspec": {
   "display_name": "Python 3 (ipykernel)",
   "language": "python",
   "name": "python3"
  },
  "language_info": {
   "codemirror_mode": {
    "name": "ipython",
    "version": 3
   },
   "file_extension": ".py",
   "mimetype": "text/x-python",
   "name": "python",
   "nbconvert_exporter": "python",
   "pygments_lexer": "ipython3",
   "version": "3.9.9"
  }
 },
 "nbformat": 4,
 "nbformat_minor": 5
}
