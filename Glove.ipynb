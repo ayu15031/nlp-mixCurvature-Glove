{
 "cells": [
  {
   "cell_type": "code",
   "execution_count": 1,
   "id": "69acfd01",
   "metadata": {},
   "outputs": [],
   "source": [
    "import torch\n",
    "import glove\n",
    "import run\n",
    "import pickle\n",
    "from tools import Dictionary"
   ]
  },
  {
   "cell_type": "code",
   "execution_count": 4,
   "id": "d0ef6e22",
   "metadata": {},
   "outputs": [],
   "source": [
    "EMBEDDING_SIZE = 128\n",
    "CONTEXT_SIZE = 3\n",
    "NUM_EPOCH = 100\n",
    "BATHC_SIZE = 512\n",
    "PATH = \"model/glove.pt\""
   ]
  },
  {
   "cell_type": "code",
   "execution_count": 3,
   "id": "4092c715",
   "metadata": {},
   "outputs": [],
   "source": [
    "# !mv /Users/v/Downloads/glove.pt model/"
   ]
  },
  {
   "cell_type": "code",
   "execution_count": 5,
   "id": "75e94bb7",
   "metadata": {},
   "outputs": [],
   "source": [
    "with open(\"data/f.pkl\", mode='rb') as fp:\n",
    "    doc = pickle.load(fp)\n",
    "    \n",
    "dictionary = Dictionary()\n",
    "dictionary.update(doc)\n",
    "# doc.vocab_size\n",
    "VS = dictionary.vocab_size    "
   ]
  },
  {
   "cell_type": "code",
   "execution_count": 6,
   "id": "3e03c8c0",
   "metadata": {},
   "outputs": [
    {
     "data": {
      "text/plain": [
       "<All keys matched successfully>"
      ]
     },
     "execution_count": 6,
     "metadata": {},
     "output_type": "execute_result"
    }
   ],
   "source": [
    "model = glove.GloVeModel(EMBEDDING_SIZE, CONTEXT_SIZE, VS)\n",
    "model.load_state_dict(torch.load(PATH, map_location=torch.device('cpu')))\n",
    "# model"
   ]
  },
  {
   "cell_type": "code",
   "execution_count": 11,
   "id": "b5d1942c",
   "metadata": {},
   "outputs": [],
   "source": [
    "emb = model._focal_embeddings.weight + model._context_embeddings.weight\n",
    "emb = [e.detach().numpy() for e in emb]"
   ]
  },
  {
   "cell_type": "code",
   "execution_count": 13,
   "id": "f088b42a",
   "metadata": {},
   "outputs": [],
   "source": [
    "GloVe = {}\n",
    "for w in dictionary.word2idx:\n",
    "    GloVe[w] = emb[dictionary.word2idx[w]]"
   ]
  },
  {
   "cell_type": "code",
   "execution_count": 22,
   "id": "40e8a039",
   "metadata": {},
   "outputs": [],
   "source": [
    "import numpy as np\n",
    "\n",
    "def cosine(a, b):\n",
    "    return a.dot(b)/(np.linalg.norm(a)*np.linalg.norm(b))"
   ]
  },
  {
   "cell_type": "code",
   "execution_count": 34,
   "id": "8cce9878",
   "metadata": {},
   "outputs": [
    {
     "data": {
      "text/plain": [
       "0.1415527502031948"
      ]
     },
     "execution_count": 34,
     "metadata": {},
     "output_type": "execute_result"
    }
   ],
   "source": [
    "cosine(GloVe['hogwarts'], GloVe['dumbledore'])"
   ]
  },
  {
   "cell_type": "code",
   "execution_count": 37,
   "id": "1a19cc79",
   "metadata": {},
   "outputs": [
    {
     "data": {
      "text/plain": [
       "0.005335224958177125"
      ]
     },
     "execution_count": 37,
     "metadata": {},
     "output_type": "execute_result"
    }
   ],
   "source": [
    "cosine(GloVe['hogwarts'], GloVe['voldemort'])"
   ]
  },
  {
   "cell_type": "code",
   "execution_count": 38,
   "id": "2c027e38",
   "metadata": {},
   "outputs": [],
   "source": [
    "with open(\"model/glove.pkl\", \"wb\") as handle:\n",
    "    pickle.dump(GloVe, handle)"
   ]
  },
  {
   "cell_type": "code",
   "execution_count": null,
   "id": "6d885121",
   "metadata": {},
   "outputs": [],
   "source": []
  },
  {
   "cell_type": "code",
   "execution_count": null,
   "id": "037b2b50",
   "metadata": {},
   "outputs": [],
   "source": []
  }
 ],
 "metadata": {
  "kernelspec": {
   "display_name": "Python 3 (ipykernel)",
   "language": "python",
   "name": "python3"
  },
  "language_info": {
   "codemirror_mode": {
    "name": "ipython",
    "version": 3
   },
   "file_extension": ".py",
   "mimetype": "text/x-python",
   "name": "python",
   "nbconvert_exporter": "python",
   "pygments_lexer": "ipython3",
   "version": "3.9.9"
  }
 },
 "nbformat": 4,
 "nbformat_minor": 5
}
