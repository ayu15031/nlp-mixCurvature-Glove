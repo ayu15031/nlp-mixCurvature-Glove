{
 "cells": [
  {
   "cell_type": "code",
   "execution_count": 1,
   "id": "3f82f061",
   "metadata": {},
   "outputs": [
    {
     "name": "stderr",
     "output_type": "stream",
     "text": [
      "\u001b[34m\u001b[1mwandb\u001b[0m: Currently logged in as: \u001b[33mayushi15\u001b[0m. Use \u001b[1m`wandb login --relogin`\u001b[0m to force relogin\n"
     ]
    },
    {
     "data": {
      "text/html": [
       "Tracking run with wandb version 0.12.17"
      ],
      "text/plain": [
       "<IPython.core.display.HTML object>"
      ]
     },
     "metadata": {},
     "output_type": "display_data"
    },
    {
     "data": {
      "text/html": [
       "Run data is saved locally in <code>/Users/ayushi/Courses/Spring22/NLP/project/nlp-mixCurvature-Glove/wandb/run-20220528_201808-nayi12sw</code>"
      ],
      "text/plain": [
       "<IPython.core.display.HTML object>"
      ]
     },
     "metadata": {},
     "output_type": "display_data"
    },
    {
     "data": {
      "text/html": [
       "Syncing run <strong><a href=\"https://wandb.ai/ayushi15/nlp-multimixture/runs/nayi12sw\" target=\"_blank\">desert-deluge-46</a></strong> to <a href=\"https://wandb.ai/ayushi15/nlp-multimixture\" target=\"_blank\">Weights & Biases</a> (<a href=\"https://wandb.me/run\" target=\"_blank\">docs</a>)<br/>"
      ],
      "text/plain": [
       "<IPython.core.display.HTML object>"
      ]
     },
     "metadata": {},
     "output_type": "display_data"
    }
   ],
   "source": [
    "import torch\n",
    "import glove\n",
    "import run\n",
    "import pickle\n",
    "from tools import Dictionary"
   ]
  },
  {
   "cell_type": "code",
   "execution_count": 64,
   "id": "7864d1a0",
   "metadata": {},
   "outputs": [],
   "source": [
    "EMBEDDING_SIZE = 128\n",
    "CONTEXT_SIZE = 3\n",
    "NUM_EPOCH = 100\n",
    "BATHC_SIZE = 512\n",
    "PATH = \"../../checkpoints/vanilla\""
   ]
  },
  {
   "cell_type": "code",
   "execution_count": 65,
   "id": "aaae75d9",
   "metadata": {},
   "outputs": [],
   "source": [
    "# !mv /Users/v/Downloads/glove.pt model/"
   ]
  },
  {
   "cell_type": "code",
   "execution_count": 66,
   "id": "7c7c63d6",
   "metadata": {},
   "outputs": [],
   "source": [
    "with open(\"../../data/dict_test_vanilla.pkl\", mode='rb') as fp:\n",
    "    dictionary = pickle.load(fp)\n",
    "    \n",
    "VS = dictionary.vocab_size"
   ]
  },
  {
   "cell_type": "code",
   "execution_count": 67,
   "id": "d99a8fd6",
   "metadata": {},
   "outputs": [],
   "source": [
    "# doc"
   ]
  },
  {
   "cell_type": "code",
   "execution_count": 68,
   "id": "f2345509",
   "metadata": {},
   "outputs": [
    {
     "data": {
      "text/plain": [
       "GloVeModel(\n",
       "  (_focal_embeddings): Embedding(21237, 128)\n",
       "  (_context_embeddings): Embedding(21237, 128)\n",
       "  (_focal_biases): Embedding(21237, 1)\n",
       "  (_context_biases): Embedding(21237, 1)\n",
       ")"
      ]
     },
     "execution_count": 68,
     "metadata": {},
     "output_type": "execute_result"
    }
   ],
   "source": [
    "model = glove.GloVeModel(EMBEDDING_SIZE, CONTEXT_SIZE, VS)\n",
    "model.load_state_dict(torch.load(PATH, map_location=torch.device('cpu')))\n",
    "model\n",
    "# model = torch.load(PATH, map_location=torch.device('cpu'))"
   ]
  },
  {
   "cell_type": "code",
   "execution_count": 69,
   "id": "9c30c199",
   "metadata": {},
   "outputs": [
    {
     "name": "stdout",
     "output_type": "stream",
     "text": [
      "tensor(1916.3533, dtype=torch.float64, grad_fn=<SumBackward0>)\n",
      "tensor(-3045.9561, dtype=torch.float64, grad_fn=<SumBackward0>)\n"
     ]
    }
   ],
   "source": [
    "print(model._focal_embeddings.weight.sum())\n",
    "print(model._context_embeddings.weight.sum())"
   ]
  },
  {
   "cell_type": "code",
   "execution_count": 70,
   "id": "4b1b1809",
   "metadata": {},
   "outputs": [
    {
     "name": "stdout",
     "output_type": "stream",
     "text": [
      "8.574258117652906\n",
      "2.8309328196182237\n",
      "-1.249055585696773\n"
     ]
    }
   ],
   "source": [
    "emb = model._focal_embeddings.weight + model._context_embeddings.weight\n",
    "# emb = model['_focal_embeddings.weight'] + model['_context_embeddings.weight']\n",
    "\n",
    "emb = [e.detach().numpy() for e in emb]\n",
    "print(emb[0].sum())\n",
    "print(emb[1].sum())\n",
    "print(emb[2].sum())"
   ]
  },
  {
   "cell_type": "code",
   "execution_count": 71,
   "id": "a1301d4d",
   "metadata": {},
   "outputs": [
    {
     "name": "stdout",
     "output_type": "stream",
     "text": [
      "2164\n",
      "719\n",
      "836\n"
     ]
    }
   ],
   "source": [
    "print(dictionary.word2idx['hogwarts'])\n",
    "print(dictionary.word2idx['dumbledore'])\n",
    "print(dictionary.word2idx['voldemort'])"
   ]
  },
  {
   "cell_type": "code",
   "execution_count": 72,
   "id": "edbccf70",
   "metadata": {},
   "outputs": [
    {
     "name": "stdout",
     "output_type": "stream",
     "text": [
      "1.6786581138087002\n",
      "2.103210732167823\n",
      "-0.5495063313950732\n"
     ]
    }
   ],
   "source": [
    "GloVe = {}\n",
    "for w in dictionary.word2idx:\n",
    "    GloVe[w] = emb[dictionary.word2idx[w]]\n",
    "    \n",
    "    \n",
    "print(GloVe['hogwarts'].sum())\n",
    "print(GloVe['dumbledore'].sum())\n",
    "print(GloVe['voldemort'].sum())"
   ]
  },
  {
   "cell_type": "code",
   "execution_count": 73,
   "id": "06464dc7",
   "metadata": {},
   "outputs": [],
   "source": [
    "import numpy as np\n",
    "\n",
    "def cosine(a, b):\n",
    "    return a.dot(b)/(np.linalg.norm(a)*np.linalg.norm(b))"
   ]
  },
  {
   "cell_type": "code",
   "execution_count": 82,
   "id": "a4dc9f40",
   "metadata": {},
   "outputs": [
    {
     "data": {
      "text/plain": [
       "-0.02034403650795824"
      ]
     },
     "execution_count": 82,
     "metadata": {},
     "output_type": "execute_result"
    }
   ],
   "source": [
    "cosine(GloVe['harry'], GloVe['dursley'])"
   ]
  },
  {
   "cell_type": "code",
   "execution_count": 37,
   "id": "f13bafe2",
   "metadata": {},
   "outputs": [
    {
     "data": {
      "text/plain": [
       "-0.08967246662227145"
      ]
     },
     "execution_count": 37,
     "metadata": {},
     "output_type": "execute_result"
    }
   ],
   "source": [
    "cosine(GloVe['hogwarts'], GloVe['harry'])"
   ]
  },
  {
   "cell_type": "code",
   "execution_count": null,
   "id": "20c7412b",
   "metadata": {},
   "outputs": [],
   "source": [
    "# with open(\"model/glove.pkl\", \"wb\") as handle:\n",
    "#     pickle.dump(GloVe, handle)"
   ]
  },
  {
   "cell_type": "markdown",
   "id": "c1bd03e0",
   "metadata": {},
   "source": [
    "# Analogies"
   ]
  },
  {
   "cell_type": "code",
   "execution_count": 38,
   "id": "15e70761",
   "metadata": {},
   "outputs": [],
   "source": [
    "from utils import find_analogy_glove"
   ]
  },
  {
   "cell_type": "code",
   "execution_count": 85,
   "id": "01d1984c",
   "metadata": {},
   "outputs": [],
   "source": [
    "embeddings = GloVe\n",
    "word_a = \"harry\"\n",
    "word_b = \"potter\"\n",
    "word_c = \"luna\"\n",
    "\n",
    "# Trevor toad Fluffy dog\n",
    "\n",
    "#    Lovegood\n"
   ]
  },
  {
   "cell_type": "code",
   "execution_count": 86,
   "id": "c1b21262",
   "metadata": {},
   "outputs": [
    {
     "name": "stdout",
     "output_type": "stream",
     "text": [
      "CPU times: user 182 ms, sys: 18.6 ms, total: 200 ms\n",
      "Wall time: 193 ms\n"
     ]
    },
    {
     "data": {
      "text/plain": [
       "'hall'"
      ]
     },
     "execution_count": 86,
     "metadata": {},
     "output_type": "execute_result"
    }
   ],
   "source": [
    "%%time\n",
    "find_analogy_glove(word_a, word_b, word_c, embeddings, 20)"
   ]
  },
  {
   "cell_type": "code",
   "execution_count": null,
   "id": "f9af7c5f",
   "metadata": {},
   "outputs": [],
   "source": []
  },
  {
   "cell_type": "code",
   "execution_count": null,
   "id": "0d56930e",
   "metadata": {},
   "outputs": [],
   "source": []
  }
 ],
 "metadata": {
  "kernelspec": {
   "display_name": "Python 3 (ipykernel)",
   "language": "python",
   "name": "python3"
  },
  "language_info": {
   "codemirror_mode": {
    "name": "ipython",
    "version": 3
   },
   "file_extension": ".py",
   "mimetype": "text/x-python",
   "name": "python",
   "nbconvert_exporter": "python",
   "pygments_lexer": "ipython3",
   "version": "3.8.6"
  }
 },
 "nbformat": 4,
 "nbformat_minor": 5
}
