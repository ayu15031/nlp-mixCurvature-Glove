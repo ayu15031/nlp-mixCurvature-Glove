{
 "cells": [
  {
   "cell_type": "code",
   "execution_count": 1,
   "id": "ad9a8811",
   "metadata": {},
   "outputs": [],
   "source": [
    "import geoopt\n",
    "import pickle\n",
    "import numpy as np"
   ]
  },
  {
   "cell_type": "code",
   "execution_count": null,
   "id": "1fb2613c",
   "metadata": {},
   "outputs": [],
   "source": [
    "\n",
    "def find_analogy_mix(word_a, word_b, word_c, embeddings_list, curvatures, weights):\n",
    "    word_a = word_a.lower()\n",
    "    word_b = word_b.lower()\n",
    "    word_c = word_c.lower()\n",
    "    \n",
    "    final = {}\n",
    "    words = embeddings_list[0].keys()\n",
    "    word_dist = []\n",
    "    parallen_transes = []\n",
    "    for i in range(len(curvatures)):\n",
    "\n",
    "        e_a, e_b, e_c = embeddings_list[i][word_a], embeddings_list[i][word_b], embeddings_list[i][word_c]\n",
    "\n",
    "        parallen_trans = mobmath.mobius_add(e_c, mobmath.gyration(e_c, -e_a, mobmath.mobius_add(-e_a, e_b, k=curvatures[i]), k=curvatures[i]), k=curvatures[i])\n",
    "        parallen_transes.append(parallen_trans)\n",
    "\n",
    "    for w in words:\n",
    "        \n",
    "        if w in [word_a, word_b, word_c]:\n",
    "                continue\n",
    "\n",
    "        dist = 0.0\n",
    "    \n",
    "        for i, embeddings in enumerate(embeddings_list):\n",
    "            e_a, e_b, e_c = embeddings[word_a], embeddings[word_b], embeddings[word_c]\n",
    "\n",
    "            c = curvatures[i]\n",
    "            wt = weights[i]\n",
    "            parallen_trans = parallen_transes[i]\n",
    "\n",
    "            # cosine_sim = find_distance(embeddings[w], mobmath.mobius_add(e_c, )   ()find_distance(e_b, e_a), find_distance(, e_c))\n",
    "            # parallen_trans = self.moebius_add_mat(pos_emb[1], self.gyr_mat(pos_emb[1], -neg_emb, self.moebius_add_mat(-neg_emb, pos_emb[0])))\n",
    "\n",
    "            distance = find_distance(embeddings[w], parallen_trans, c)\n",
    "            dist += wt * distance\n",
    "            # if distance > max_cosine_sim:\n",
    "                # max_cosine_sim = distance\n",
    "                # best_word = w\n",
    "            \n",
    "        word_dist.append((dist, w))\n",
    "\n",
    "    word_dist = sorted(word_dist)\n",
    "    final = word_dist[:10]\n",
    "    return final\n"
   ]
  }
 ],
 "metadata": {
  "kernelspec": {
   "display_name": "Python 3 (ipykernel)",
   "language": "python",
   "name": "python3"
  },
  "language_info": {
   "codemirror_mode": {
    "name": "ipython",
    "version": 3
   },
   "file_extension": ".py",
   "mimetype": "text/x-python",
   "name": "python",
   "nbconvert_exporter": "python",
   "pygments_lexer": "ipython3",
   "version": "3.9.9"
  }
 },
 "nbformat": 4,
 "nbformat_minor": 5
}
